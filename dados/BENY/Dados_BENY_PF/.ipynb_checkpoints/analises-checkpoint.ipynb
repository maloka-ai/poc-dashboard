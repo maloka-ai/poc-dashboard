{
 "cells": [
  {
   "cell_type": "code",
   "execution_count": 11,
   "id": "4add5128-e4cb-4a70-ba95-e1dba7bf05f7",
   "metadata": {},
   "outputs": [],
   "source": [
    "import pandas as pd\n",
    "import dotenv\n",
    "import os\n",
    "import matplotlib.pyplot as plt\n",
    "import seaborn as sns\n",
    "import numpy as np\n",
    "import warnings\n",
    "import psycopg2"
   ]
  },
  {
   "cell_type": "code",
   "execution_count": 12,
   "id": "0cd1f016-fb9e-4f41-b8cf-568da8317fa0",
   "metadata": {},
   "outputs": [
    {
     "name": "stdout",
     "output_type": "stream",
     "text": [
      "Conectado!\n",
      "TABLE Vendas\n",
      "   id_venda id_original  id_cliente data_compra total_item\n",
      "0         1    47057992      104347  2021-02-22    1589.00\n",
      "1         2    13148533      136322  2021-02-18     158.50\n",
      "2         3    42074841      155862  2021-02-09    1716.50\n",
      "3         4    43065729       70630  2021-03-15    1342.10\n",
      "4         5    13146799       90404  2021-01-13    2617.18\n",
      "TABLE Clientes\n",
      "   id_cliente tipo_cliente                   email       telefone  \\\n",
      "0      179663            J  l_stedesco@hotmail.com  92 99128-0571   \n",
      "1      179655            F               nt@nt.com  92 98152-7729   \n",
      "2      179644            F      cesarvalmir@me.com  95 99971-1600   \n",
      "3      179664            F               nt@nt.com  92 99612-9803   \n",
      "4      179647            F               nt@nt.com  92 99344-6160   \n",
      "\n",
      "                                   endereco       cep   cidade estado  \n",
      "0                    AVENIDA COSME FERREIRA  69075775  11240.0     AM  \n",
      "1    AVENIDA RAMOS FERREIRA - ATÉ 1111/1112  69010120  11240.0     AM  \n",
      "2  RUA GENERAL PENHA BRASIL - DE 603/604 AO  69305130  11267.0     RR  \n",
      "3                             RUA SAO PEDRO  69020050  11240.0     AM  \n",
      "4                         RUA MICHEL FOKINE  69054739  11240.0     AM  \n",
      "TABLE Clientes\n",
      "   id_cliente                            nome             cpf data_nascimento  \\\n",
      "0      145619  ANTONIO CLAUDIO ROCHA DE SOUZA  776.725.932-34            None   \n",
      "1      158577        ARLENSOM DE LIMA IGLEZIS  644.878.142-00      1980-02-12   \n",
      "2      159174            DAVI BRITO DE ARAUJO  901.228.442-20      1986-05-24   \n",
      "3      160770           JACSON MARINHO ALVES   671.791.422-04      1977-12-07   \n",
      "4      168790             STAEL ROCHA DA CRUZ  072.483.176-24      1986-10-02   \n",
      "\n",
      "  genero  \n",
      "0      M  \n",
      "1      M  \n",
      "2      M  \n",
      "3      M  \n",
      "4      F  \n",
      "fechando cursor e conn\n"
     ]
    }
   ],
   "source": [
    "warnings.filterwarnings('ignore', category=DeprecationWarning)\n",
    "warnings.filterwarnings('ignore', category=FutureWarning)\n",
    "\n",
    "dotenv.load_dotenv()\n",
    "# Configuração da conexão\n",
    "config = {\n",
    "    \"host\":     os.getenv(\"host_gcp\"),\n",
    "    \"dbname\":   \"beny\",\n",
    "    \"user\":     os.getenv(\"meuUser\"),\n",
    "    \"password\": os.getenv(\"minhaSenha\"),\n",
    "    \"port\":     os.getenv(\"port_gcp\")\n",
    "}\n",
    "\n",
    "try:\n",
    "    # Conectar ao banco e criar cursor\n",
    "    conn = psycopg2.connect(**config)\n",
    "    cursor = conn.cursor()\n",
    "    print(\"Conectado!\")\n",
    "\n",
    "    # cursor.execute(\"SELECT table_name FROM information_schema.tables WHERE table_schema = 'public';\")\n",
    "    # tables = cursor.fetchall()\n",
    "    # print(tables)\n",
    "\n",
    "    #Executar a query na tabela vendas\n",
    "    query = \"SELECT * FROM vendas;\"\n",
    "    cursor.execute(query)\n",
    "    # Obter todas as linhas retornadas\n",
    "    linhas = cursor.fetchall()\n",
    "    # Obter os nomes das colunas a partir do cursor.description\n",
    "    colunas = [desc[0] for desc in cursor.description]\n",
    "    # Criar o DataFrame com os dados e as colunas\n",
    "    df_vendas = pd.DataFrame(linhas, columns=colunas)\n",
    "\n",
    "    query = \"SELECT * FROM clientes;\"\n",
    "    cursor.execute(query)\n",
    "    linhas = cursor.fetchall()\n",
    "    colunas = [desc[0] for desc in cursor.description]\n",
    "    df_clientes = pd.DataFrame(linhas, columns=colunas)\n",
    "\n",
    "    query = \"SELECT * FROM clientespessoafisica;\"\n",
    "    cursor.execute(query)\n",
    "    linhas = cursor.fetchall()\n",
    "    colunas = [desc[0] for desc in cursor.description]\n",
    "    df_clientes_PF = pd.DataFrame(linhas, columns=colunas)\n",
    "    \n",
    "    #Exibir as primeiras linhas do DataFrame vendas e clientes\n",
    "    print(\"TABLE Vendas\")\n",
    "    print(df_vendas.head())\n",
    "    # df_vendas.to_excel('vendas_Beny.xlsx', index=False)\n",
    "    \n",
    "    print(\"TABLE Clientes\")\n",
    "    print(df_clientes.head())\n",
    "\n",
    "    print(\"TABLE Clientes\")\n",
    "    print(df_clientes_PF.head())\n",
    "    \n",
    "    # Fechar cursor e conexão\n",
    "    cursor.close()\n",
    "    conn.close()\n",
    "    print(\"fechando cursor e conn\")\n",
    "except Exception as e:\n",
    "    print(f\"Erro ao conectar ou executar a query: {e}\")"
   ]
  },
  {
   "cell_type": "code",
   "execution_count": 13,
   "id": "9ce5e94c-d59f-47cd-b576-4e66f6cbc7fa",
   "metadata": {},
   "outputs": [
    {
     "name": "stdout",
     "output_type": "stream",
     "text": [
      "Ticket Médio: 883.48\n"
     ]
    }
   ],
   "source": [
    "df_vendas['data_compra'] = pd.to_datetime(df_vendas['data_compra'])\n",
    "df_vendas['total_item'] = pd.to_numeric(df_vendas['total_item'], errors='coerce')\n",
    "df_vendas = df_vendas.merge(df_clientes[['id_cliente', 'tipo_cliente']], on='id_cliente', how='left')\n",
    "df_vendas = df_vendas[df_vendas['tipo_cliente'] == 'J']\n",
    "ticket_medio = df_vendas['total_item'].mean()\n",
    "print(\"Ticket Médio: {:.2f}\".format(ticket_medio))"
   ]
  },
  {
   "cell_type": "code",
   "execution_count": 14,
   "id": "343ff18d-b4f6-4c61-a178-8df323d8993f",
   "metadata": {},
   "outputs": [
    {
     "name": "stdout",
     "output_type": "stream",
     "text": [
      "    ano tipo_cliente_ano   total_item\n",
      "0  2021             Novo   812.170707\n",
      "1  2022             Novo  1129.245120\n",
      "2  2022       Recorrente   749.091049\n",
      "3  2023             Novo  1069.118454\n",
      "4  2023       Recorrente   821.791611\n",
      "5  2024             Novo  1089.675117\n",
      "6  2024       Recorrente   768.656690\n"
     ]
    }
   ],
   "source": [
    "# Criar a coluna 'ano' a partir da data da compra\n",
    "df_vendas['ano'] = df_vendas['data_compra'].dt.to_period('Y')\n",
    "\n",
    "# Determinar o ano da primeira compra de cada cliente\n",
    "primeira_compra = df_vendas.groupby('id_cliente')['data_compra'].min().reset_index()\n",
    "primeira_compra['ano_primeira'] = pd.to_datetime(primeira_compra['data_compra']).dt.to_period('Y')\n",
    "\n",
    "# Mesclar essa informação com o DataFrame de vendas\n",
    "df_vendas = df_vendas.merge(primeira_compra[['id_cliente', 'ano_primeira']], on='id_cliente', how='left')\n",
    "\n",
    "# Classificar cada compra: se o ano da compra for igual ao ano da primeira compra, é \"Novo\"; caso contrário, \"Recorrente\"\n",
    "df_vendas['tipo_cliente_ano'] = np.where(df_vendas['ano'] == df_vendas['ano_primeira'], 'Novo', 'Recorrente')\n",
    "\n",
    "# Calcular o ticket médio (média de total_item) por ano e por tipo de cliente\n",
    "ticket_medio_por_tipo = df_vendas.groupby(['ano', 'tipo_cliente_ano'])['total_item'].mean().reset_index()\n",
    "\n",
    "print(ticket_medio_por_tipo)\n"
   ]
  }
 ],
 "metadata": {
  "kernelspec": {
   "display_name": "Python 3 (ipykernel)",
   "language": "python",
   "name": "python3"
  },
  "language_info": {
   "codemirror_mode": {
    "name": "ipython",
    "version": 3
   },
   "file_extension": ".py",
   "mimetype": "text/x-python",
   "name": "python",
   "nbconvert_exporter": "python",
   "pygments_lexer": "ipython3",
   "version": "3.12.0"
  }
 },
 "nbformat": 4,
 "nbformat_minor": 5
}
